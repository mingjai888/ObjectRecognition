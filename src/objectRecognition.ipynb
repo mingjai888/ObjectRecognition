{
 "cells": [
  {
   "cell_type": "code",
   "execution_count": 1,
   "metadata": {},
   "outputs": [],
   "source": [
    "import numpy as np\n",
    "import matplotlib.pyplot as plt\n",
    "import skimage.feature\n",
    "\n",
    "\n",
    "def getData():\n",
    "    a = np.load('trnImage.npy')\n",
    "    b = np.load('trnLabel.npy')\n",
    "    c = np.load('tstImage.npy')\n",
    "    d = np.load('tstLabel.npy')\n",
    "    return a, b, c, d"
   ]
  },
  {
   "cell_type": "code",
   "execution_count": 2,
   "metadata": {},
   "outputs": [],
   "source": [
    "def computeFeatures(image):\n",
    "    # This function computes the HOG features with the parsed hyperparameters and returns the features as hog_feature. \n",
    "    # By setting visualize=True we obtain an image, hog_as_image, which can be plotted for insight into extracted HOG features.\n",
    "    hog_feature, hog_as_image = skimage.feature.hog(image, visualize=True, block_norm='L2-Hys')\n",
    "    return hog_feature, hog_as_image\n",
    "\n",
    "# Extract the features from a single image\n",
    "#features, hog_images = computeFeatures(trnImages[:,:,:,trnidx])\n",
    "\n",
    "#plt.imshow(hog_images)\n",
    "#plt.show(block=False)\n"
   ]
  },
  {
   "cell_type": "code",
   "execution_count": 3,
   "metadata": {},
   "outputs": [
    {
     "name": "stdout",
     "output_type": "stream",
     "text": [
      "Accuracy: 49.4%\n"
     ]
    }
   ],
   "source": [
    "from sklearn.discriminant_analysis import LinearDiscriminantAnalysis\n",
    "\n",
    "def LDA():\n",
    "    \n",
    "    trnImages, trnLabels, tstImages, tstLabels = getData()\n",
    "    \n",
    "    arrtrain = []\n",
    "    for e in range (10000):\n",
    "        hog_features, hog_images = computeFeatures(trnImages[:,:,:,e])\n",
    "        arrtrain.append(hog_features)\n",
    "     \n",
    "    arrtest = []\n",
    "    for f in range (1000): \n",
    "        test_features, test_images = computeFeatures(tstImages[:,:,:,f])\n",
    "        arrtest.append(test_features)\n",
    "    \n",
    "    trnLabels = np.array(trnLabels).reshape(len(trnLabels), 1).ravel()\n",
    "    tstLabels = np.array(tstLabels).reshape(len(tstLabels), 1).ravel()\n",
    "\n",
    "    lda = LinearDiscriminantAnalysis()\n",
    "    lda.fit_transform(arrtrain, trnLabels)\n",
    "    prediction = lda.predict(arrtest)\n",
    "    \n",
    "    correctness = 0\n",
    "    for index, pred in enumerate(prediction):\n",
    "        if pred == tstLabels[index]:\n",
    "            correctness += 1\n",
    "    per_corr = (correctness/ len(tstLabels))*100\n",
    "    print(\"Accuracy: \" + str(per_corr) + \"%\")\n",
    "    \n",
    "LDA()"
   ]
  },
  {
   "cell_type": "code",
   "execution_count": null,
   "metadata": {},
   "outputs": [],
   "source": []
  },
  {
   "cell_type": "code",
   "execution_count": null,
   "metadata": {},
   "outputs": [],
   "source": []
  }
 ],
 "metadata": {
  "kernelspec": {
   "display_name": "Python 3",
   "language": "python",
   "name": "python3"
  },
  "language_info": {
   "codemirror_mode": {
    "name": "ipython",
    "version": 3
   },
   "file_extension": ".py",
   "mimetype": "text/x-python",
   "name": "python",
   "nbconvert_exporter": "python",
   "pygments_lexer": "ipython3",
   "version": "3.7.4"
  }
 },
 "nbformat": 4,
 "nbformat_minor": 2
}
